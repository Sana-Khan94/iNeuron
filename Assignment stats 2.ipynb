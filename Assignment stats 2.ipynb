{
 "cells": [
  {
   "cell_type": "markdown",
   "id": "af2f7ae0",
   "metadata": {},
   "source": [
    "**Problem Statement 1:**\n",
    "\n",
    "In each of the following situations, state whether it is a correctly stated hypothesis testing problem and why?\n",
    "\n",
    "1. 𝐻0: 𝜇 = 25, 𝐻1: 𝜇 ≠ 25\n",
    "\n",
    "2. 𝐻0: 𝜎 > 10, 𝐻1: 𝜎 = 10\n",
    "\n",
    "3. 𝐻0: 𝑥 = 50, 𝐻1: 𝑥 ≠ 50\n",
    "\n",
    "4. 𝐻0: 𝑝 = 0.1, 𝐻1: 𝑝 = 0.5\n",
    "\n",
    "5. 𝐻0: 𝑠 = 30, 𝐻1: 𝑠 > 30\n",
    "\n",
    "1.Yes, because values in both are statement about population or distribution, have equal values and has inequality in null hypothesis.\n",
    "\n",
    "2.No, because null hypothesis has an eqaulity claim and alternate hypothesis has inequality.\n",
    "\n",
    "3.No, because hypothesis is stated in terms of statistics and not sample data \n",
    "\n",
    "4.No, because values in both hypothesis is different and has equal sign.\n",
    "\n",
    "5.No, because hypothesis are always statements about population or distribution and not about sample"
   ]
  },
  {
   "cell_type": "markdown",
   "id": "9dbf8df6",
   "metadata": {},
   "source": [
    "**Problem Statement 2:**\n",
    "\n",
    "The college bookstore tells prospective students that the average cost of its textbooks is Rs. 52 with a standard deviation of Rs. 4.50. A group of smart statistics students thinks that the average cost is higher. To test the bookstore’s claim against their alternative, the students will select a random sample of size 100. Assume that the mean from their random sample is Rs. 52.80. Perform a hypothesis test at the 5% level of significance and state your decision."
   ]
  },
  {
   "cell_type": "markdown",
   "id": "5e9f80bd",
   "metadata": {},
   "source": [
    "H0: mu=52\n",
    "\n",
    "H1: mu!=52"
   ]
  },
  {
   "cell_type": "code",
   "execution_count": 1,
   "id": "3fd558c1",
   "metadata": {},
   "outputs": [],
   "source": [
    "from scipy import stats\n",
    "import numpy as np\n",
    "\n",
    "def test_score(sigma,n,mu,x_mean):\n",
    "    SE = sigma/np.sqrt(n)\n",
    "    z_stat = (x_mean-mu)/SE\n",
    "    return z_stat"
   ]
  },
  {
   "cell_type": "code",
   "execution_count": 2,
   "id": "e68f70cd",
   "metadata": {},
   "outputs": [
    {
     "data": {
      "text/plain": [
       "1.7777777777777715"
      ]
     },
     "execution_count": 2,
     "metadata": {},
     "output_type": "execute_result"
    }
   ],
   "source": [
    "z_score=test_score(4.5,100,52,52.8) #use population deviation for z-test\n",
    "z_score"
   ]
  },
  {
   "cell_type": "code",
   "execution_count": 3,
   "id": "4ab200a9",
   "metadata": {},
   "outputs": [
    {
     "data": {
      "text/plain": [
       "1.959963984540054"
      ]
     },
     "execution_count": 3,
     "metadata": {},
     "output_type": "execute_result"
    }
   ],
   "source": [
    "alpha = 0.05\n",
    "p=1-alpha/2\n",
    "z_crticial=stats.norm.ppf(p)\n",
    "z_crticial"
   ]
  },
  {
   "cell_type": "code",
   "execution_count": 4,
   "id": "3f547b46",
   "metadata": {},
   "outputs": [],
   "source": [
    "def check_test(z_score,z_critical):\n",
    "    if z_score>z_critical:\n",
    "        print(\"Null Hypothesis Rejected\")\n",
    "    else:\n",
    "        print(\"Null Hypothesis Accepted\")"
   ]
  },
  {
   "cell_type": "code",
   "execution_count": 5,
   "id": "f3799011",
   "metadata": {},
   "outputs": [
    {
     "name": "stdout",
     "output_type": "stream",
     "text": [
      "Null Hypothesis Accepted\n"
     ]
    }
   ],
   "source": [
    "check_test(z_score, z_crticial)"
   ]
  },
  {
   "cell_type": "markdown",
   "id": "6c3980d2",
   "metadata": {},
   "source": [
    "**Problem Statement 3:**\n",
    "\n",
    "A certain chemical pollutant in the Genesee River has been constant for several years with mean μ = 34 ppm (parts per million) and standard deviation σ = 8 ppm. A group of factory representatives whose companies discharge liquids into the river is now claiming that they have lowered the average with improved filtration devices. A group of environmentalists will test to see if this is true at the 1% level of significance. Assume \\ that their sample of size 50 gives a mean of 32.5 ppm. Perform a hypothesis test at the 1% level of significance and state your decision."
   ]
  },
  {
   "cell_type": "markdown",
   "id": "a359cf08",
   "metadata": {},
   "source": [
    "H0: mu = 34\n",
    "\n",
    "H1:mu != 34"
   ]
  },
  {
   "cell_type": "markdown",
   "id": "792c2ede",
   "metadata": {},
   "source": [
    "test_score(sigma=8,n=50,mu=34,x_mean=32.5):\n"
   ]
  },
  {
   "cell_type": "code",
   "execution_count": 6,
   "id": "66a31285",
   "metadata": {},
   "outputs": [
    {
     "data": {
      "text/plain": [
       "-1.3258252147247767"
      ]
     },
     "execution_count": 6,
     "metadata": {},
     "output_type": "execute_result"
    }
   ],
   "source": [
    "z_score_2 = test_score(8,50,34,32.5)\n",
    "z_score_2"
   ]
  },
  {
   "cell_type": "code",
   "execution_count": 7,
   "id": "8e42f23d",
   "metadata": {},
   "outputs": [
    {
     "data": {
      "text/plain": [
       "2.5758293035489004"
      ]
     },
     "execution_count": 7,
     "metadata": {},
     "output_type": "execute_result"
    }
   ],
   "source": [
    "alpha = 0.01\n",
    "p=1-alpha/2\n",
    "z_critical_2=stats.norm.ppf(p)\n",
    "z_critical_2"
   ]
  },
  {
   "cell_type": "code",
   "execution_count": 8,
   "id": "b242aaf0",
   "metadata": {},
   "outputs": [
    {
     "name": "stdout",
     "output_type": "stream",
     "text": [
      "Null Hypothesis Accepted\n"
     ]
    }
   ],
   "source": [
    "check_test((z_score_2), z_critical_2)"
   ]
  },
  {
   "cell_type": "markdown",
   "id": "32fd5457",
   "metadata": {},
   "source": [
    "**Problem Statement 4:**\n",
    "\n",
    "Based on population figures and other general information on the U.S. population, suppose it has been estimated that, on average, a family of four in the U.S. spends about $1135 annually on dental expenditures. Suppose further that a regional dental association wants to test to determine if this figure is accurate for their area of country. To test this, 22 families of 4 are randomly selected from the population in that area of the country and a log is kept of the family’s dental expenditure for one year. The resulting data are given below. Assuming, that dental expenditure is normally distributed in the population, use the data and an alpha of 0.5 to test the dental association’s hypothesis. \n",
    "\n",
    "1008, 812, 1117, 1323, 1308, 1415, 831, 1021, 1287, 851, 930, 730, 699, 872, 913, 944, 954, 987, 1695, 995, 1003, 994"
   ]
  },
  {
   "cell_type": "markdown",
   "id": "99496b3d",
   "metadata": {},
   "source": [
    "H0: mu = 1135\n",
    "\n",
    "H1: mu != 1135"
   ]
  },
  {
   "cell_type": "markdown",
   "id": "c011a49a",
   "metadata": {},
   "source": [
    "test_score(sigma=240.37,n=22,mu=1135,x_mean=1031.31)"
   ]
  },
  {
   "cell_type": "code",
   "execution_count": 9,
   "id": "8c88acaf",
   "metadata": {},
   "outputs": [
    {
     "data": {
      "text/plain": [
       "22"
      ]
     },
     "execution_count": 9,
     "metadata": {},
     "output_type": "execute_result"
    }
   ],
   "source": [
    "x=[1008, 812, 1117, 1323, 1308, 1415, 831, 1021, 1287, 851, 930, 730, 699, 872, 913, 944, 954, 987, 1695, 995, 1003, 994]\n",
    "len(x)"
   ]
  },
  {
   "cell_type": "code",
   "execution_count": 10,
   "id": "4f1bdad1",
   "metadata": {},
   "outputs": [
    {
     "data": {
      "text/plain": [
       "1031.3181818181818"
      ]
     },
     "execution_count": 10,
     "metadata": {},
     "output_type": "execute_result"
    }
   ],
   "source": [
    "np.mean(x)"
   ]
  },
  {
   "cell_type": "code",
   "execution_count": 11,
   "id": "2c229907",
   "metadata": {},
   "outputs": [
    {
     "data": {
      "text/plain": [
       "240.37458592463878"
      ]
     },
     "execution_count": 11,
     "metadata": {},
     "output_type": "execute_result"
    }
   ],
   "source": [
    "np.std(x,ddof=1)"
   ]
  },
  {
   "cell_type": "code",
   "execution_count": 12,
   "id": "23bcafef",
   "metadata": {},
   "outputs": [
    {
     "data": {
      "text/plain": [
       "-2.023137479931484"
      ]
     },
     "execution_count": 12,
     "metadata": {},
     "output_type": "execute_result"
    }
   ],
   "source": [
    "test_score(np.std(x,ddof=1),22,1135,np.mean(x))"
   ]
  },
  {
   "cell_type": "code",
   "execution_count": 13,
   "id": "03e19c84",
   "metadata": {},
   "outputs": [
    {
     "name": "stdout",
     "output_type": "stream",
     "text": [
      "0.0559738319464585\n",
      "-2.023137479931484\n"
     ]
    }
   ],
   "source": [
    "t_value,p_value = stats.ttest_1samp(a=x,popmean=1135) #since n<30, we use t-test\n",
    "print(p_value)\n",
    "print(t_value)"
   ]
  },
  {
   "cell_type": "code",
   "execution_count": 14,
   "id": "4a694405",
   "metadata": {},
   "outputs": [
    {
     "name": "stdout",
     "output_type": "stream",
     "text": [
      "rejecting null hypothesis\n"
     ]
    }
   ],
   "source": [
    "alpha_value = 0.5\n",
    "if p_value<t_value:\n",
    "    print(\"accept null hypothesis\")\n",
    "else:\n",
    "    print(\"rejecting null hypothesis\")"
   ]
  },
  {
   "cell_type": "markdown",
   "id": "7e3ca2b6",
   "metadata": {},
   "source": [
    "**Problem Statement 5:**\n",
    "\n",
    "In a report prepared by the Economic Research Department of a major bank the Department manager maintains that the average annual family income on Metropolis is 48432. What do you conclude about the validity of the report if a random sample of 400 families shows and average income of 48,574 with a standard deviation of 2000?"
   ]
  },
  {
   "cell_type": "markdown",
   "id": "b994b719",
   "metadata": {},
   "source": [
    "H0 : mu = 48432\n",
    "\n",
    "H1 : mu != 48432"
   ]
  },
  {
   "cell_type": "code",
   "execution_count": 15,
   "id": "c3fa7e9a",
   "metadata": {},
   "outputs": [],
   "source": [
    "mu = 48432\n",
    "n = 400\n",
    "x_mean = 48574\n",
    "x_dev = 2000   # only deviation with respect to sample is given so t-test"
   ]
  },
  {
   "cell_type": "code",
   "execution_count": 16,
   "id": "d005dd70",
   "metadata": {},
   "outputs": [
    {
     "data": {
      "text/plain": [
       "1.42"
      ]
     },
     "execution_count": 16,
     "metadata": {},
     "output_type": "execute_result"
    }
   ],
   "source": [
    "t_test= test_score(x_dev,n,mu,x_mean) # can be same but sigma is replaced by s\n",
    "t_test"
   ]
  },
  {
   "cell_type": "code",
   "execution_count": 17,
   "id": "793e629a",
   "metadata": {},
   "outputs": [
    {
     "data": {
      "text/plain": [
       "-1.6486815335554064"
      ]
     },
     "execution_count": 17,
     "metadata": {},
     "output_type": "execute_result"
    }
   ],
   "source": [
    "alpha = 0.05\n",
    "p =1-alpha\n",
    "df = n-1\n",
    "value = stats.t.ppf(0.05,399)\n",
    "value"
   ]
  },
  {
   "cell_type": "code",
   "execution_count": 18,
   "id": "c06b58eb",
   "metadata": {},
   "outputs": [
    {
     "data": {
      "text/plain": [
       "0.15638854177674055"
      ]
     },
     "execution_count": 18,
     "metadata": {},
     "output_type": "execute_result"
    }
   ],
   "source": [
    "p_1=(1-stats.t.cdf(abs(t_test),df))*2\n",
    "\n",
    "p_1"
   ]
  },
  {
   "cell_type": "code",
   "execution_count": 19,
   "id": "59fa6662",
   "metadata": {},
   "outputs": [
    {
     "name": "stdout",
     "output_type": "stream",
     "text": [
      "Hypothesis rejected\n"
     ]
    }
   ],
   "source": [
    "#for two tail test:\n",
    "if abs(t_test)>value:\n",
    "    print(\"Hypothesis rejected\")\n",
    "else:\n",
    "    print(\"Hypothesis accepted\")"
   ]
  },
  {
   "cell_type": "markdown",
   "id": "4bf15e1b",
   "metadata": {},
   "source": [
    "**Problem Statement 6:**\n",
    "\n",
    "Suppose that in past years the average price per square foot for warehouses in the United States has been 32.28. A national real estate investor wants to determine whether that figure has changed now. The investor hires a researcher who randomly samples 19 warehouses that are for sale across the United States and finds that the mean price per square foot is 31.67, with a standard deviation of 1.29. assume that the prices of warehouse footage are normally distributed in population. If the researcher uses a 5% level of significance, what statistical conclusion can be reached? What are the hypotheses?"
   ]
  },
  {
   "cell_type": "markdown",
   "id": "c85b8283",
   "metadata": {},
   "source": [
    "H0: mu>=32.28\n",
    "\n",
    "H1: mu<32.28"
   ]
  },
  {
   "cell_type": "code",
   "execution_count": 20,
   "id": "32605fcb",
   "metadata": {},
   "outputs": [],
   "source": [
    "mu =32.28\n",
    "x_bar = 31.67\n",
    "n=19\n",
    "s=1.29"
   ]
  },
  {
   "cell_type": "code",
   "execution_count": 21,
   "id": "34acd9d7",
   "metadata": {},
   "outputs": [
    {
     "data": {
      "text/plain": [
       "-2.06118477175179"
      ]
     },
     "execution_count": 21,
     "metadata": {},
     "output_type": "execute_result"
    }
   ],
   "source": [
    "t_test= test_score(s,n,mu,x_bar) # can be same but sigma is replaced by s\n",
    "t_test"
   ]
  },
  {
   "cell_type": "code",
   "execution_count": 22,
   "id": "dc0c5276",
   "metadata": {},
   "outputs": [
    {
     "data": {
      "text/plain": [
       "1.7340636066175354"
      ]
     },
     "execution_count": 22,
     "metadata": {},
     "output_type": "execute_result"
    }
   ],
   "source": [
    "alpha = 0.05\n",
    "p = 1-alpha\n",
    "df = n-1\n",
    "value = stats.t.ppf(1-0.05,18)\n",
    "value"
   ]
  },
  {
   "cell_type": "code",
   "execution_count": 23,
   "id": "4595c8a4",
   "metadata": {},
   "outputs": [
    {
     "name": "stdout",
     "output_type": "stream",
     "text": [
      "H0 rejected\n"
     ]
    }
   ],
   "source": [
    "#for left tail:\n",
    "if t_test< (value):\n",
    "    print(\"H0 rejected\")\n",
    "else:\n",
    "    print(\"H0 acceptd\")"
   ]
  },
  {
   "cell_type": "markdown",
   "id": "fd4cce04",
   "metadata": {},
   "source": [
    "**Problem Statement 7:**\n",
    "\n",
    "Fill in the blank spaces in the table and draw your conclusions from it."
   ]
  },
  {
   "cell_type": "raw",
   "id": "f724ed00",
   "metadata": {},
   "source": [
    "acceptance region         Alpha        mu=52        mu=50.5\n",
    "\n",
    "48.5 < x < 51.5           0.0576       0.2643       0.8923\n",
    "\n",
    "48 < x < 51               0.0114       0.5000       0.9705\n",
    "\n",
    "48.81 < x < 51.9          0.0164       0.2119       0.9445\n",
    "\n",
    "48.42 <x < 51.58          0.0014       0.5000       0.9918"
   ]
  },
  {
   "cell_type": "markdown",
   "id": "913eb15c",
   "metadata": {},
   "source": [
    "**Problem Statement 8:**\n",
    "\n",
    "Find the t-score for a sample size of 16 taken from a population with mean 10 when the sample mean is 12 and the sample standard deviation is 1.5."
   ]
  },
  {
   "cell_type": "markdown",
   "id": "bc2b8513",
   "metadata": {},
   "source": [
    "test_score(sigma=1.5,n=16,mu=10,x_mean=12)\n"
   ]
  },
  {
   "cell_type": "code",
   "execution_count": 24,
   "id": "e2637a86",
   "metadata": {},
   "outputs": [
    {
     "data": {
      "text/plain": [
       "5.333333333333333"
      ]
     },
     "execution_count": 24,
     "metadata": {},
     "output_type": "execute_result"
    }
   ],
   "source": [
    "ans = test_score(1.5,16,10,12)\n",
    "ans"
   ]
  },
  {
   "cell_type": "markdown",
   "id": "9746b0ce",
   "metadata": {},
   "source": [
    "**Problem Statement 9:**\n",
    "\n",
    "Find the t-score below which we can expect 99% of sample means will fall if samples of size 16 are taken from a normally distributed population."
   ]
  },
  {
   "cell_type": "code",
   "execution_count": 25,
   "id": "04d1f0e2",
   "metadata": {},
   "outputs": [
    {
     "data": {
      "text/plain": [
       "2.602480294995493"
      ]
     },
     "execution_count": 25,
     "metadata": {},
     "output_type": "execute_result"
    }
   ],
   "source": [
    "p = 0.99\n",
    "df = 16-1\n",
    "t_score = stats.t.ppf(p,df)\n",
    "t_score"
   ]
  },
  {
   "cell_type": "markdown",
   "id": "f87ba461",
   "metadata": {},
   "source": [
    "**Problem Statement 10:**\n",
    "\n",
    "If a random sample of size 25 drawn from a normal population gives a mean of 60 and a standard deviation of 4, find the range of t-scores where we can expect to find the middle 95% of all sample means. Compute the probability that (−𝑡0.05 <𝑡<𝑡0.10).\n"
   ]
  },
  {
   "cell_type": "code",
   "execution_count": 26,
   "id": "867970d0",
   "metadata": {},
   "outputs": [],
   "source": [
    "n = 25\n",
    "sam_mean = 60\n",
    "s = 4\n",
    "p =0.95\n",
    "alpha = 1-p\n",
    "p_new = 1-(alpha)/2\n",
    "\n",
    "def get_ci(n,sam_mean,s,p):\n",
    "    lv = sam_mean - stats.t.ppf(p,n-1)*(s/np.sqrt(n))\n",
    "    hv = sam_mean + stats.t.ppf(p,n-1)*(s/np.sqrt(n))\n",
    "    ls = (sam_mean-lv)/(s/np.sqrt(n))\n",
    "    hs = (sam_mean-hv)/(s/np.sqrt(n))\n",
    "    return ls,hs"
   ]
  },
  {
   "cell_type": "code",
   "execution_count": 27,
   "id": "cba0ddc8",
   "metadata": {},
   "outputs": [
    {
     "data": {
      "text/plain": [
       "(2.063898561628017, -2.063898561628017)"
      ]
     },
     "execution_count": 27,
     "metadata": {},
     "output_type": "execute_result"
    }
   ],
   "source": [
    "get_ci(n,sam_mean,s,p_new)"
   ]
  },
  {
   "cell_type": "code",
   "execution_count": 28,
   "id": "2548b909",
   "metadata": {},
   "outputs": [
    {
     "data": {
      "text/plain": [
       "0.85"
      ]
     },
     "execution_count": 28,
     "metadata": {},
     "output_type": "execute_result"
    }
   ],
   "source": [
    "#p(-t0.05<t<t0.1)\n",
    "prob = 1-0.05-0.1\n",
    "prob"
   ]
  },
  {
   "cell_type": "markdown",
   "id": "67aff10d",
   "metadata": {},
   "source": [
    "**Problem Statement 11:**\n",
    "\n",
    "Two-tailed test for difference between two population means Is there evidence to conclude that the number of people travelling from Bangalore to Chennai is different from the number of people travelling from Bangalore to Hosur in a week, given the following: Population 1: Bangalore to Chennai n1 = 1200 x1 = 452 s1 = 212 Population 2: Bangalore to Hosur n2 = 800 x2 = 523 s2 = 185\n"
   ]
  },
  {
   "cell_type": "markdown",
   "id": "7be94632",
   "metadata": {},
   "source": [
    "H0: mu1-mu2 =0\n",
    "\n",
    "H1: mu1-mu2 != 0"
   ]
  },
  {
   "cell_type": "code",
   "execution_count": 29,
   "id": "5ea160f6",
   "metadata": {},
   "outputs": [],
   "source": [
    "n1= 1200\n",
    "x1 =452\n",
    "s1=212\n",
    "\n",
    "n2=800\n",
    "x2=523\n",
    "s2=185"
   ]
  },
  {
   "cell_type": "code",
   "execution_count": 30,
   "id": "274c43f6",
   "metadata": {},
   "outputs": [],
   "source": [
    "def ztest(mean1,mean2,s1,s2,n1,n2):\n",
    "    se = np.sqrt(s1**2/n1 +s2**2/n2)\n",
    "    #print(se)\n",
    "    z_val = (mean1-mean2)/se\n",
    "    return (z_val)"
   ]
  },
  {
   "cell_type": "code",
   "execution_count": 31,
   "id": "aec14688",
   "metadata": {},
   "outputs": [
    {
     "data": {
      "text/plain": [
       "-7.926428526759299"
      ]
     },
     "execution_count": 31,
     "metadata": {},
     "output_type": "execute_result"
    }
   ],
   "source": [
    "z=ztest(x1,x2,s1,s2,n1,n2)\n",
    "z"
   ]
  },
  {
   "cell_type": "code",
   "execution_count": 32,
   "id": "088e9ee0",
   "metadata": {},
   "outputs": [
    {
     "data": {
      "text/plain": [
       "2.2553835335706493e-15"
      ]
     },
     "execution_count": 32,
     "metadata": {},
     "output_type": "execute_result"
    }
   ],
   "source": [
    "p_values = stats.norm.sf(abs(z))*2\n",
    "p_values"
   ]
  },
  {
   "cell_type": "code",
   "execution_count": 33,
   "id": "76735a4b",
   "metadata": {},
   "outputs": [
    {
     "name": "stdout",
     "output_type": "stream",
     "text": [
      "Hypothesis Rejected\n"
     ]
    }
   ],
   "source": [
    "if p_values<0.05:\n",
    "    print(\"Hypothesis Rejected\")\n",
    "else:\n",
    "    print(\"Hypothesis Accepted\")"
   ]
  },
  {
   "cell_type": "markdown",
   "id": "a4674b32",
   "metadata": {},
   "source": [
    "**Problem Statement 12:**\n",
    "\n",
    "Is there evidence to conclude that the number of people preferring Duracell battery is different from the number of people preferring Energizer battery, given the following: Population 1: Duracell n1 = 100 x1 = 308 s1 = 84 Population 2: Energizer n2 = 100 x2 = 254 s2 = 67"
   ]
  },
  {
   "cell_type": "code",
   "execution_count": 34,
   "id": "b44ec7f8",
   "metadata": {},
   "outputs": [],
   "source": [
    "n1 = 100\n",
    "x1 = 308\n",
    "s1 = 84\n",
    "\n",
    "n2=100\n",
    "x2=254\n",
    "s2=67"
   ]
  },
  {
   "cell_type": "code",
   "execution_count": 35,
   "id": "5d0f0c04",
   "metadata": {},
   "outputs": [
    {
     "name": "stdout",
     "output_type": "stream",
     "text": [
      "5.025702668336442\n"
     ]
    }
   ],
   "source": [
    "z=ztest(x1,x2,s1,s2,n1,n2)\n",
    "print(z)"
   ]
  },
  {
   "cell_type": "code",
   "execution_count": 36,
   "id": "f2409b32",
   "metadata": {},
   "outputs": [
    {
     "data": {
      "text/plain": [
       "5.015925256430319e-07"
      ]
     },
     "execution_count": 36,
     "metadata": {},
     "output_type": "execute_result"
    }
   ],
   "source": [
    "p_values = stats.norm.sf(abs(z))*2\n",
    "p_values"
   ]
  },
  {
   "cell_type": "code",
   "execution_count": 37,
   "id": "7c2469af",
   "metadata": {},
   "outputs": [
    {
     "name": "stdout",
     "output_type": "stream",
     "text": [
      "Hypothesis Rejected\n"
     ]
    }
   ],
   "source": [
    "if p_values<0.05:\n",
    "    print(\"Hypothesis Rejected\")\n",
    "else:\n",
    "    print(\"Hypothesis Accept\")"
   ]
  },
  {
   "cell_type": "markdown",
   "id": "16adf8d3",
   "metadata": {},
   "source": [
    "**Problem Statement 13:**\n",
    "\n",
    "Pooled estimate of the population variance Does the data provide sufficient evidence to conclude that average percentage increase in the price of sugar differs when it is sold at two different prices? Population 1: Price of sugar = Rs. 27.50 n1 = 14 x1 = 0.317% s1 = 0.12% Population 2: Price of sugar = Rs. 20.00 n2 = 9 x2 = 0.21% s2 = 0.11%"
   ]
  },
  {
   "cell_type": "markdown",
   "id": "8c134648",
   "metadata": {},
   "source": [
    "H0 : mu1 = mu2\n",
    "\n",
    "H1 : mu1 != mu2"
   ]
  },
  {
   "cell_type": "code",
   "execution_count": 38,
   "id": "8c044e6a",
   "metadata": {},
   "outputs": [],
   "source": [
    "x1=0.317\n",
    "s1=0.12\n",
    "x2=0.21\n",
    "s2=0.11\n",
    "n1=14\n",
    "n2=9"
   ]
  },
  {
   "cell_type": "code",
   "execution_count": 39,
   "id": "b5e54bb5",
   "metadata": {},
   "outputs": [],
   "source": [
    "#for pooled estimate of the common population variance:\n",
    "def get_tscore(x1,x2,s1,s2,n1,n2):\n",
    "    s_2 = ((n1-1)*(s1**2)+(n2-1)*(s2**2)) / (n1+n2-2)\n",
    "    se = np.sqrt(s_2*(1/n1+1/n2))\n",
    "    t = (x1-x2)/se\n",
    "    return t"
   ]
  },
  {
   "cell_type": "code",
   "execution_count": 40,
   "id": "98e009e9",
   "metadata": {},
   "outputs": [
    {
     "data": {
      "text/plain": [
       "2.15355322387416"
      ]
     },
     "execution_count": 40,
     "metadata": {},
     "output_type": "execute_result"
    }
   ],
   "source": [
    "t_value=get_tscore(x1,x2,s1,s2,n1,n2)\n",
    "t_value"
   ]
  },
  {
   "cell_type": "code",
   "execution_count": 41,
   "id": "bd8ea22c",
   "metadata": {},
   "outputs": [
    {
     "data": {
      "text/plain": [
       "2.079613844727662"
      ]
     },
     "execution_count": 41,
     "metadata": {},
     "output_type": "execute_result"
    }
   ],
   "source": [
    "alpha = 0.05\n",
    "p = 1-alpha/2\n",
    "df = n1+n2-2\n",
    "t_score = stats.t.ppf(p,df)\n",
    "t_score"
   ]
  },
  {
   "cell_type": "code",
   "execution_count": 42,
   "id": "09d1627c",
   "metadata": {},
   "outputs": [
    {
     "name": "stdout",
     "output_type": "stream",
     "text": [
      "Based on this data Null Hypotheis is rejected\n"
     ]
    }
   ],
   "source": [
    "# At 5%\n",
    "if(abs(t_value)>t_score):\n",
    "    print(\"Based on this data Null Hypotheis is rejected\")\n",
    "else:\n",
    "    print(\"Based on this data Null Hypothesis is accepted\")"
   ]
  },
  {
   "cell_type": "markdown",
   "id": "dcedca8e",
   "metadata": {},
   "source": [
    "**Problem Statement 14:**\n",
    "\n",
    "The manufacturers of compact disk players want to test whether a small price reduction is enough to increase sales of their product. Is there evidence that the small price reduction is enough to increase sales of compact disk players? Population 1: Before reduction n1 = 15 x1 = Rs. 6598 s1 = Rs. 844 Population 2: After reduction n2 = 12 x2 = RS. 6870 s2 = Rs. 669"
   ]
  },
  {
   "cell_type": "code",
   "execution_count": 43,
   "id": "793c0551",
   "metadata": {},
   "outputs": [],
   "source": [
    "n1 = 15\n",
    "n2 = 12\n",
    "x1 = 6598\n",
    "x2 = 6870\n",
    "s1 = 844\n",
    "s2 = 669"
   ]
  },
  {
   "cell_type": "code",
   "execution_count": 44,
   "id": "bd308b59",
   "metadata": {},
   "outputs": [
    {
     "data": {
      "text/plain": [
       "-0.9098300343990461"
      ]
     },
     "execution_count": 44,
     "metadata": {},
     "output_type": "execute_result"
    }
   ],
   "source": [
    "t_value=get_tscore(x1,x2,s1,s2,n1,n2)\n",
    "t_value"
   ]
  },
  {
   "cell_type": "code",
   "execution_count": 45,
   "id": "e25cc45a",
   "metadata": {},
   "outputs": [
    {
     "data": {
      "text/plain": [
       "2.059538552753294"
      ]
     },
     "execution_count": 45,
     "metadata": {},
     "output_type": "execute_result"
    }
   ],
   "source": [
    "alpha = 0.05\n",
    "p = 1-alpha/2\n",
    "df = n1+n2-2\n",
    "t_score = stats.t.ppf(p,df)\n",
    "t_score"
   ]
  },
  {
   "cell_type": "code",
   "execution_count": 46,
   "id": "417823a4",
   "metadata": {},
   "outputs": [
    {
     "name": "stdout",
     "output_type": "stream",
     "text": [
      "Based on this data Null Hypothesis is accepted\n"
     ]
    }
   ],
   "source": [
    "# At 5%\n",
    "if(abs(t_value)>t_score):\n",
    "    print(\"Based on this data Null Hypotheis is rejected\")\n",
    "else:\n",
    "    print(\"Based on this data Null Hypothesis is accepted\")"
   ]
  },
  {
   "cell_type": "markdown",
   "id": "421b2d41",
   "metadata": {},
   "source": [
    "**Problem Statement 15:**\n",
    "\n",
    "Comparisons of two population proportions when the hypothesized difference is zero Carry out a two-tailed test of the equality of banks’ share of the car loan market in 1980 and 1995. Population 1: 1980 n1 = 1000 x1 = 53 𝑝 1 = 0.53 Population 2: 1985 n2 = 100 x2 = 43 𝑝 2= 0.53"
   ]
  },
  {
   "cell_type": "markdown",
   "id": "38243663",
   "metadata": {},
   "source": [
    "H0: p1-p2 = 0\n",
    "\n",
    "H1: p1-p2!= 0"
   ]
  },
  {
   "cell_type": "code",
   "execution_count": 47,
   "id": "5216f4e6",
   "metadata": {},
   "outputs": [],
   "source": [
    "#population 1: 1980\n",
    "\n",
    "#since we know, p_1 = x1/n1. Data must have got some error so making change\n",
    "\n",
    "#n1 = 1000\n",
    "n1=100\n",
    "x1 = 53\n",
    "p_1 = 0.53\n",
    "\n",
    "#population 2:1985\n",
    "n2 = 100\n",
    "x2 = 43\n",
    "#p_2 = 0.53\n",
    "p_2 = 0.43"
   ]
  },
  {
   "cell_type": "code",
   "execution_count": 48,
   "id": "5dda7d74",
   "metadata": {},
   "outputs": [],
   "source": [
    "def get_zscore(x1,x2,p_1,p_2,n1,n2,D=0): #D = difference in population proportion\n",
    "    p = (x1+x2)/(n1+n2)\n",
    "    numerator = (p_1-p_2)-D\n",
    "    denominator = np.sqrt(p*(1-p)*(1/n1 + 1/n2))\n",
    "    z_value = numerator/denominator\n",
    "    return z_value"
   ]
  },
  {
   "cell_type": "code",
   "execution_count": 49,
   "id": "3a63fd68",
   "metadata": {},
   "outputs": [
    {
     "data": {
      "text/plain": [
       "1.4153462926807452"
      ]
     },
     "execution_count": 49,
     "metadata": {},
     "output_type": "execute_result"
    }
   ],
   "source": [
    "z_value = get_zscore(x1,x2,p_1,p_2,n1,n2)\n",
    "z_value"
   ]
  },
  {
   "cell_type": "code",
   "execution_count": 50,
   "id": "c7b1e3ee",
   "metadata": {},
   "outputs": [
    {
     "data": {
      "text/plain": [
       "1.959963984540054"
      ]
     },
     "execution_count": 50,
     "metadata": {},
     "output_type": "execute_result"
    }
   ],
   "source": [
    "alpha = 0.05\n",
    "p=1-alpha/2\n",
    "z_crticial=stats.norm.ppf(p)\n",
    "z_crticial"
   ]
  },
  {
   "cell_type": "code",
   "execution_count": 51,
   "id": "96a73b16",
   "metadata": {},
   "outputs": [
    {
     "name": "stdout",
     "output_type": "stream",
     "text": [
      "Null Hypothesis Accepted\n"
     ]
    }
   ],
   "source": [
    "if z_value>z_crticial:\n",
    "    print(\"Null Hypothesis Rejected\")\n",
    "else:\n",
    "    print(\"Null Hypothesis Accepted\")"
   ]
  },
  {
   "cell_type": "markdown",
   "id": "d46d6819",
   "metadata": {},
   "source": [
    "**Problem Statement 16:**\n",
    "\n",
    "Carry out a one-tailed test to determine whether the population proportion of traveler’s check buyers who buy at least $2500 in checks when sweepstakes prizes are offered as at least 10% higher than the proportion of such buyers when no sweepstakes are on. Population 1: With sweepstakes n1 = 300 x1 = 120 𝑝 = 0.40 Population 2: No sweepstakes n2 = 700 x2 = 140 𝑝 2= 0.20"
   ]
  },
  {
   "cell_type": "markdown",
   "id": "509d88a9",
   "metadata": {},
   "source": [
    "H0: p1-p2 <=0.1\n",
    "\n",
    "H0: p1-p2>0.1\n",
    "\n",
    "i.e. one tail test"
   ]
  },
  {
   "cell_type": "code",
   "execution_count": 52,
   "id": "a8dba1b1",
   "metadata": {},
   "outputs": [],
   "source": [
    "#population 1 : With sweepstakes\n",
    "n1=300\n",
    "x1=120\n",
    "p_1=0.40\n",
    "\n",
    "#population 2: Without\n",
    "n2=700\n",
    "x2=140\n",
    "p_2=0.20\n",
    "\n",
    "D=0.1"
   ]
  },
  {
   "cell_type": "code",
   "execution_count": 53,
   "id": "76aa1027",
   "metadata": {},
   "outputs": [],
   "source": [
    "# when hypothesis difference is not = 0\n",
    "def get_zscore(p_1,p_2,n1,n2,D=0): #D = difference in population proportion\n",
    "    numerator = (p_1-p_2)-D\n",
    "    denominator = np.sqrt(p_1*(1-p_1)/n1 +p_2*(1-p_2)/n2)\n",
    "    z_value = numerator/denominator\n",
    "    return z_value"
   ]
  },
  {
   "cell_type": "code",
   "execution_count": 54,
   "id": "86345b81",
   "metadata": {},
   "outputs": [
    {
     "data": {
      "text/plain": [
       "3.1180478223116177"
      ]
     },
     "execution_count": 54,
     "metadata": {},
     "output_type": "execute_result"
    }
   ],
   "source": [
    "z_value = get_zscore(p_1,p_2,n1,n2,D)\n",
    "z_value"
   ]
  },
  {
   "cell_type": "code",
   "execution_count": 55,
   "id": "6cf189ed",
   "metadata": {},
   "outputs": [
    {
     "data": {
      "text/plain": [
       "2.3263478740408408"
      ]
     },
     "execution_count": 55,
     "metadata": {},
     "output_type": "execute_result"
    }
   ],
   "source": [
    "#since z_value > 3, let's take alpha=0.01 so value would be nearer \n",
    "alpha = 0.01\n",
    "p=1-alpha\n",
    "z_crticial=stats.norm.ppf(p)\n",
    "z_crticial"
   ]
  },
  {
   "cell_type": "code",
   "execution_count": 56,
   "id": "17f96ca7",
   "metadata": {},
   "outputs": [
    {
     "name": "stdout",
     "output_type": "stream",
     "text": [
      "Null Hypothesis Rejected\n"
     ]
    }
   ],
   "source": [
    "if z_value>z_crticial:\n",
    "    print(\"Null Hypothesis Rejected\")\n",
    "else:\n",
    "    print(\"Null Hypothesis Accepted\")"
   ]
  },
  {
   "cell_type": "markdown",
   "id": "febd684a",
   "metadata": {},
   "source": [
    "**Problem Statement 17:**\n",
    "\n",
    "A die is thrown 132 times with the following results: Number turned up: 1, 2, 3, 4, 5, 6 Frequency: 16, 20, 25, 14, 29, 28 Is the die unbiased? Consider the degrees of freedom as 𝑝 − 1"
   ]
  },
  {
   "cell_type": "markdown",
   "id": "25a71076",
   "metadata": {},
   "source": [
    "Chi-square for goodness of fit is when we have only one variable dice-rolled\n",
    "\n",
    "H0: die are unbiased i.e. (O-E) = 0\n",
    "\n",
    "H1 : die are biased i.e. (O-E) != 0"
   ]
  },
  {
   "cell_type": "code",
   "execution_count": 57,
   "id": "5dd5db38",
   "metadata": {},
   "outputs": [
    {
     "data": {
      "text/plain": [
       "[22.0, 22.0, 22.0, 22.0, 22.0, 22.0]"
      ]
     },
     "execution_count": 57,
     "metadata": {},
     "output_type": "execute_result"
    }
   ],
   "source": [
    "# for die to be unbiased every number must come equal time\n",
    "n=132\n",
    "value = [1,2,3,4,5,6]\n",
    "O = [16,20,25,14,29,28]\n",
    "E_val = n/len(value)\n",
    "E = [E_val for _ in range(len(value))]\n",
    "E"
   ]
  },
  {
   "cell_type": "code",
   "execution_count": 58,
   "id": "3a48c3c5",
   "metadata": {},
   "outputs": [],
   "source": [
    "def get_chisquare(O,E):\n",
    "    val = 0\n",
    "    for i in range(len(O)):\n",
    "        val += ((O[i]-E[i])**2)/E[i]\n",
    "    return val"
   ]
  },
  {
   "cell_type": "code",
   "execution_count": 59,
   "id": "796ca83e",
   "metadata": {},
   "outputs": [
    {
     "data": {
      "text/plain": [
       "9.0"
      ]
     },
     "execution_count": 59,
     "metadata": {},
     "output_type": "execute_result"
    }
   ],
   "source": [
    "chi_value=get_chisquare(O,E)\n",
    "chi_value"
   ]
  },
  {
   "cell_type": "code",
   "execution_count": 60,
   "id": "17b0d27b",
   "metadata": {},
   "outputs": [
    {
     "data": {
      "text/plain": [
       "11.070497693516351"
      ]
     },
     "execution_count": 60,
     "metadata": {},
     "output_type": "execute_result"
    }
   ],
   "source": [
    "alpha = 0.05\n",
    "p= 1-alpha\n",
    "df = len(O)-1\n",
    "critical_chi=stats.chi2.ppf(p,df)\n",
    "critical_chi"
   ]
  },
  {
   "cell_type": "code",
   "execution_count": 61,
   "id": "b8572b0a",
   "metadata": {},
   "outputs": [
    {
     "name": "stdout",
     "output_type": "stream",
     "text": [
      "Hypothesis Accepted\n"
     ]
    }
   ],
   "source": [
    "if (chi_value<critical_chi):\n",
    "    print(\"Hypothesis Accepted\")\n",
    "else:\n",
    "    print(\"Hypothesis Rejected\")"
   ]
  },
  {
   "cell_type": "markdown",
   "id": "baa4ca37",
   "metadata": {},
   "source": [
    "**Chi-square goodness of fit is always right tailed. As looking chi value formula i can clearly say at lowest the value will be 0 i.e. when O= E and when difference increaes value shifts towards left so only way to get hypothesis rejected is right tailed test.**"
   ]
  },
  {
   "cell_type": "markdown",
   "id": "8ba1891d",
   "metadata": {},
   "source": [
    "**Problem Statement 18:**\n",
    "\n",
    "In a certain town, there are about one million eligible voters. A simple random sample of 10,000 eligible voters was chosen to study the relationship between gender and participation in the last election. The results are summarized in the following 2X2 (read two by two) contingency table:\n",
    "\n",
    "\n",
    "image.png\n",
    "\n",
    "\n",
    "We would want to check whether being a man or a woman (columns) is independent of having voted in the last election (rows). In other words, is “gender and voting independent”?"
   ]
  },
  {
   "cell_type": "markdown",
   "id": "5c2bf283",
   "metadata": {},
   "source": [
    "Chisquare test for independence. It is similar to goodness of fit but here it has two variable\n",
    "\n",
    "Formula: Expected(row,column) = (row_total * column_total) / grand_total\n",
    "\n",
    "H0: gender is independent of having voted\n",
    "\n",
    "H1: gender is dependent of having voted"
   ]
  },
  {
   "cell_type": "code",
   "execution_count": 62,
   "id": "5b70c437",
   "metadata": {},
   "outputs": [
    {
     "data": {
      "text/plain": [
       "[[2792, 3591], [1486, 2131]]"
      ]
     },
     "execution_count": 62,
     "metadata": {},
     "output_type": "execute_result"
    }
   ],
   "source": [
    "table =[[2792,3591],\n",
    "       [1486,2131]]\n",
    "table"
   ]
  },
  {
   "cell_type": "code",
   "execution_count": 63,
   "id": "ca0d68f8",
   "metadata": {},
   "outputs": [
    {
     "name": "stdout",
     "output_type": "stream",
     "text": [
      "dof:1 and stat:6.552337973968181\n"
     ]
    }
   ],
   "source": [
    "stat, p, dof, expected = stats.chi2_contingency(table)\n",
    "print('dof:{} and stat:{}'.format(dof,stat))"
   ]
  },
  {
   "cell_type": "code",
   "execution_count": 64,
   "id": "2b2839d0",
   "metadata": {},
   "outputs": [
    {
     "data": {
      "text/plain": [
       "2.072250855822193"
      ]
     },
     "execution_count": 64,
     "metadata": {},
     "output_type": "execute_result"
    }
   ],
   "source": [
    "alpha = 0.05\n",
    "p = 1-0.05\n",
    "critical = stats.chi2.ppf(prob, dof)\n",
    "critical"
   ]
  },
  {
   "cell_type": "code",
   "execution_count": 65,
   "id": "b22efe08",
   "metadata": {},
   "outputs": [
    {
     "name": "stdout",
     "output_type": "stream",
     "text": [
      "Dependent (reject H0)\n",
      "significance=0.050, p=0.950\n",
      "Independent (fail to reject H0)\n"
     ]
    }
   ],
   "source": [
    "if abs(stat) >= critical:\n",
    "    print('Dependent (reject H0)')\n",
    "else:\n",
    "    print('Independent (fail to reject H0)')\n",
    "# interpret p-value\n",
    "\n",
    "print('significance=%.3f, p=%.3f' % (alpha, p))\n",
    "if p <= alpha:\n",
    "    print('Dependent (reject H0)')\n",
    "else:\n",
    "    print('Independent (fail to reject H0)')"
   ]
  },
  {
   "cell_type": "markdown",
   "id": "41f4db0b",
   "metadata": {},
   "source": [
    "**Problem Statement 19:**\n",
    "\n",
    "A sample of 100 voters are asked which of four candidates they would vote for in an  election. The number supporting each candidate is given below: \n",
    "\n",
    "Do the data suggest that all candidates are equally popular? [Chi-Square = 14.96,  with 3 df, 𝑝 0.05 .] \n"
   ]
  },
  {
   "cell_type": "markdown",
   "id": "5987faec",
   "metadata": {},
   "source": [
    "H0: candidates are equally popular\n",
    "\n",
    "H1: candidates are not equally popular"
   ]
  },
  {
   "cell_type": "code",
   "execution_count": 66,
   "id": "158bfac0",
   "metadata": {},
   "outputs": [
    {
     "data": {
      "text/plain": [
       "[25.0, 25.0, 25.0, 25.0]"
      ]
     },
     "execution_count": 66,
     "metadata": {},
     "output_type": "execute_result"
    }
   ],
   "source": [
    "total_voter = 100\n",
    "vote_O = [41,19,24,16]\n",
    "E_value = total_voter/len(vote_O)\n",
    "vote_E = [E_value for _ in range(len(vote_O))]\n",
    "vote_E"
   ]
  },
  {
   "cell_type": "code",
   "execution_count": 67,
   "id": "3f20c262",
   "metadata": {},
   "outputs": [
    {
     "data": {
      "text/plain": [
       "14.959999999999999"
      ]
     },
     "execution_count": 67,
     "metadata": {},
     "output_type": "execute_result"
    }
   ],
   "source": [
    "chi_value=get_chisquare(vote_O,vote_E)\n",
    "chi_value"
   ]
  },
  {
   "cell_type": "code",
   "execution_count": 68,
   "id": "6aa8b5bd",
   "metadata": {},
   "outputs": [
    {
     "data": {
      "text/plain": [
       "7.814727903251179"
      ]
     },
     "execution_count": 68,
     "metadata": {},
     "output_type": "execute_result"
    }
   ],
   "source": [
    "df = len(vote_O)-1\n",
    "alpha = 0.05\n",
    "p=1-alpha\n",
    "critical = stats.chi2.ppf(p,df)\n",
    "critical"
   ]
  },
  {
   "cell_type": "code",
   "execution_count": 69,
   "id": "9c2a4fbb",
   "metadata": {},
   "outputs": [
    {
     "name": "stdout",
     "output_type": "stream",
     "text": [
      "Hypothesis Rejected\n"
     ]
    }
   ],
   "source": [
    "if (chi_value<critical_chi):\n",
    "    print(\"Hypothesis Accepted\")\n",
    "else:\n",
    "    print(\"Hypothesis Rejected\")"
   ]
  },
  {
   "cell_type": "markdown",
   "id": "82acf772",
   "metadata": {},
   "source": [
    "**Problem Statement 20:**\n",
    "\n",
    "Children of three ages are asked to indicate their preference for three photographs of adults. Do the data suggest that there is a significant relationship between age and photograph preference? What is wrong with this study? [Chi-Square = 29.6, with 4 df: 𝑝 < 0.05]."
   ]
  },
  {
   "cell_type": "markdown",
   "id": "107b9093",
   "metadata": {},
   "source": [
    "H0: no significant relationship between age and photograph\n",
    "\n",
    "H1:significant relationship between age and photograph"
   ]
  },
  {
   "cell_type": "code",
   "execution_count": 70,
   "id": "f2515b7b",
   "metadata": {},
   "outputs": [
    {
     "data": {
      "text/plain": [
       "[[18, 22, 20], [2, 28, 40], [20, 10, 40]]"
      ]
     },
     "execution_count": 70,
     "metadata": {},
     "output_type": "execute_result"
    }
   ],
   "source": [
    "table =[[18,22,20],\n",
    "       [2,28,40],\n",
    "       [20,10,40]]\n",
    "table"
   ]
  },
  {
   "cell_type": "code",
   "execution_count": 71,
   "id": "74af8889",
   "metadata": {},
   "outputs": [
    {
     "name": "stdout",
     "output_type": "stream",
     "text": [
      "dof:4 and stat:29.603174603174608\n"
     ]
    }
   ],
   "source": [
    "stat, p, dof, expected = stats.chi2_contingency(table)\n",
    "print('dof:{} and stat:{}'.format(dof,stat))"
   ]
  },
  {
   "cell_type": "code",
   "execution_count": 72,
   "id": "5b0d75b4",
   "metadata": {},
   "outputs": [
    {
     "data": {
      "text/plain": [
       "6.744883087212419"
      ]
     },
     "execution_count": 72,
     "metadata": {},
     "output_type": "execute_result"
    }
   ],
   "source": [
    "alpha = 0.05\n",
    "p = 1-0.05\n",
    "critical = stats.chi2.ppf(prob, dof)\n",
    "critical"
   ]
  },
  {
   "cell_type": "code",
   "execution_count": 73,
   "id": "a7a1c6ad",
   "metadata": {},
   "outputs": [
    {
     "name": "stdout",
     "output_type": "stream",
     "text": [
      "Dependent (reject H0)\n",
      "significance=0.050, p=0.950\n",
      "Independent (fail to reject H0)\n"
     ]
    }
   ],
   "source": [
    "if abs(stat) >= critical:\n",
    "    print('Dependent (reject H0)')\n",
    "else:\n",
    "    print('Independent (fail to reject H0)')\n",
    "# interpret p-value\n",
    "\n",
    "print('significance=%.3f, p=%.3f' % (alpha, p))\n",
    "if p <= alpha:\n",
    "    print('Dependent (reject H0)')\n",
    "else:\n",
    "    print('Independent (fail to reject H0)')"
   ]
  },
  {
   "cell_type": "markdown",
   "id": "40b155f8",
   "metadata": {},
   "source": [
    "**Problem Statement 21:**\n",
    "\n",
    "A study of conformity using the Asch paradigm involved two conditions: one where one confederate supported the true judgement and another where no confederate gave the correct response\n",
    "\n",
    "Is there a significant difference between the \"support\" and \"no support\" conditions in the frequency with which individuals are likely to conform? [Chi-Square = 19.87, with 1 df: 𝑝 < 0.05]."
   ]
  },
  {
   "cell_type": "markdown",
   "id": "f80bac08",
   "metadata": {},
   "source": [
    "H0: no significant difference in support and no support\n",
    "\n",
    "H1: signigicant difference in support and no support"
   ]
  },
  {
   "cell_type": "code",
   "execution_count": 74,
   "id": "e2be9d43",
   "metadata": {},
   "outputs": [
    {
     "data": {
      "text/plain": [
       "[[18, 40], [32, 10]]"
      ]
     },
     "execution_count": 74,
     "metadata": {},
     "output_type": "execute_result"
    }
   ],
   "source": [
    "table =[[18,40],\n",
    "       [32,10]]\n",
    "table"
   ]
  },
  {
   "cell_type": "code",
   "execution_count": 75,
   "id": "06f4b616",
   "metadata": {},
   "outputs": [
    {
     "name": "stdout",
     "output_type": "stream",
     "text": [
      "dof:1 and stat:18.10344827586207\n"
     ]
    }
   ],
   "source": [
    "stat, p, dof, expected = stats.chi2_contingency(table)\n",
    "print('dof:{} and stat:{}'.format(dof,stat))"
   ]
  },
  {
   "cell_type": "code",
   "execution_count": 76,
   "id": "752ef038",
   "metadata": {},
   "outputs": [
    {
     "data": {
      "text/plain": [
       "2.072250855822193"
      ]
     },
     "execution_count": 76,
     "metadata": {},
     "output_type": "execute_result"
    }
   ],
   "source": [
    "alpha = 0.05\n",
    "p = 1-alpha\n",
    "critical = stats.chi2.ppf(prob, dof)\n",
    "critical"
   ]
  },
  {
   "cell_type": "code",
   "execution_count": 77,
   "id": "c1fc7cc5",
   "metadata": {},
   "outputs": [
    {
     "name": "stdout",
     "output_type": "stream",
     "text": [
      "Dependent (reject H0)\n",
      "significance=0.050, p=0.950\n",
      "Independent (fail to reject H0)\n"
     ]
    }
   ],
   "source": [
    "if abs(stat) >= critical:\n",
    "    print('Dependent (reject H0)')\n",
    "else:\n",
    "    print('Independent (fail to reject H0)')\n",
    "# interpret p-value\n",
    "\n",
    "print('significance=%.3f, p=%.3f' % (alpha, p))\n",
    "if p <= alpha:\n",
    "    print('Dependent (reject H0)')\n",
    "else:\n",
    "    print('Independent (fail to reject H0)')"
   ]
  },
  {
   "cell_type": "markdown",
   "id": "769ef76c",
   "metadata": {},
   "source": [
    "**Problem Statement 22:**\n",
    "\n",
    "We want to test whether short people differ with respect to their leadership qualities (Genghis Khan, Adolf Hitler and Napoleon were all stature-deprived, and how many midget MP's are there?) The following table shows the frequencies with which 43 short people and 52 tall people were categorized as \"leaders\", \"followers\" or as \"unclassifiable\". Is there a relationship between height and leadership qualities? [Chi-Square = 10.71, with 2 df: 𝑝 < 0.01]."
   ]
  },
  {
   "cell_type": "markdown",
   "id": "dd8413ff",
   "metadata": {},
   "source": [
    "H0: no relationship in between height and leadership quality\n",
    "\n",
    "H1: relationship in between height and leadership quality"
   ]
  },
  {
   "cell_type": "code",
   "execution_count": 78,
   "id": "91f053e6",
   "metadata": {},
   "outputs": [
    {
     "data": {
      "text/plain": [
       "[[12, 32], [22, 14], [9, 6]]"
      ]
     },
     "execution_count": 78,
     "metadata": {},
     "output_type": "execute_result"
    }
   ],
   "source": [
    "table =[[12,32],\n",
    "       [22,14],\n",
    "       [9,6]]\n",
    "table"
   ]
  },
  {
   "cell_type": "code",
   "execution_count": 79,
   "id": "747acf1a",
   "metadata": {},
   "outputs": [
    {
     "name": "stdout",
     "output_type": "stream",
     "text": [
      "dof:2 and stat:10.712198008709638\n"
     ]
    }
   ],
   "source": [
    "stat, p, dof, expected = stats.chi2_contingency(table)\n",
    "print('dof:{} and stat:{}'.format(dof,stat))"
   ]
  },
  {
   "cell_type": "code",
   "execution_count": 80,
   "id": "34f9614f",
   "metadata": {},
   "outputs": [
    {
     "data": {
      "text/plain": [
       "3.794239969771762"
      ]
     },
     "execution_count": 80,
     "metadata": {},
     "output_type": "execute_result"
    }
   ],
   "source": [
    "alpha = 0.01\n",
    "p = 1-alpha\n",
    "critical = stats.chi2.ppf(prob, dof)\n",
    "critical"
   ]
  },
  {
   "cell_type": "code",
   "execution_count": 81,
   "id": "162712d2",
   "metadata": {},
   "outputs": [
    {
     "name": "stdout",
     "output_type": "stream",
     "text": [
      "Dependent (reject H0)\n",
      "significance=0.010, p=0.990\n",
      "Independent (fail to reject H0)\n"
     ]
    }
   ],
   "source": [
    "if abs(stat) >= critical:\n",
    "    print('Dependent (reject H0)')\n",
    "else:\n",
    "    print('Independent (fail to reject H0)')\n",
    "# interpret p-value\n",
    "\n",
    "print('significance=%.3f, p=%.3f' % (alpha, p))\n",
    "if p <= alpha:\n",
    "    print('Dependent (reject H0)')\n",
    "else:\n",
    "    print('Independent (fail to reject H0)')"
   ]
  },
  {
   "cell_type": "markdown",
   "id": "a7c27157",
   "metadata": {},
   "source": [
    "**Problem Statement 23:**\n",
    "\n",
    "Each respondent in the Current Population Survey of March 1993 was classified as employed, unemployed, or outside the labor force. The results for men in California age 35- 44 can be cross-tabulated by marital status, as follows:\n",
    "\n",
    "Men of different marital status seem to have different distributions of labor force status. Or is this just chance variation? (you may assume the table results from a simple random sample.)"
   ]
  },
  {
   "cell_type": "markdown",
   "id": "8056a9c2",
   "metadata": {},
   "source": [
    "H0: no relationship between married status and employment status\n",
    "\n",
    "H1: relationship between married status and employment status"
   ]
  },
  {
   "cell_type": "code",
   "execution_count": 82,
   "id": "b80e34bb",
   "metadata": {},
   "outputs": [
    {
     "data": {
      "text/plain": [
       "[[679, 103, 114], [63, 10, 20], [42, 18, 25]]"
      ]
     },
     "execution_count": 82,
     "metadata": {},
     "output_type": "execute_result"
    }
   ],
   "source": [
    "table =[[679,103,114],\n",
    "       [63,10,20],\n",
    "       [42,18,25]]\n",
    "table"
   ]
  },
  {
   "cell_type": "code",
   "execution_count": 83,
   "id": "4eadccd5",
   "metadata": {},
   "outputs": [
    {
     "name": "stdout",
     "output_type": "stream",
     "text": [
      "dof:4 and stat:31.61310319407798\n"
     ]
    }
   ],
   "source": [
    "stat, p, dof, expected = stats.chi2_contingency(table)\n",
    "print('dof:{} and stat:{}'.format(dof,stat))"
   ]
  },
  {
   "cell_type": "code",
   "execution_count": 84,
   "id": "2018b132",
   "metadata": {},
   "outputs": [
    {
     "data": {
      "text/plain": [
       "6.744883087212419"
      ]
     },
     "execution_count": 84,
     "metadata": {},
     "output_type": "execute_result"
    }
   ],
   "source": [
    "alpha = 0.05\n",
    "p = 1-alpha\n",
    "critical = stats.chi2.ppf(prob, dof)\n",
    "critical"
   ]
  },
  {
   "cell_type": "code",
   "execution_count": 85,
   "id": "d57b10c5",
   "metadata": {},
   "outputs": [
    {
     "name": "stdout",
     "output_type": "stream",
     "text": [
      "Dependent (reject H0)\n",
      "significance=0.050, p=0.950\n",
      "Independent (fail to reject H0)\n"
     ]
    }
   ],
   "source": [
    "if abs(stat) >= critical:\n",
    "    print('Dependent (reject H0)')\n",
    "else:\n",
    "    print('Independent (fail to reject H0)')\n",
    "# interpret p-value\n",
    "\n",
    "print('significance=%.3f, p=%.3f' % (alpha, p))\n",
    "if p <= alpha:\n",
    "    print('Dependent (reject H0)')\n",
    "else:\n",
    "    print('Independent (fail to reject H0)')"
   ]
  },
  {
   "cell_type": "code",
   "execution_count": null,
   "id": "5d3479e5",
   "metadata": {},
   "outputs": [],
   "source": []
  }
 ],
 "metadata": {
  "kernelspec": {
   "display_name": "Python 3",
   "language": "python",
   "name": "python3"
  },
  "language_info": {
   "codemirror_mode": {
    "name": "ipython",
    "version": 3
   },
   "file_extension": ".py",
   "mimetype": "text/x-python",
   "name": "python",
   "nbconvert_exporter": "python",
   "pygments_lexer": "ipython3",
   "version": "3.8.8"
  }
 },
 "nbformat": 4,
 "nbformat_minor": 5
}
