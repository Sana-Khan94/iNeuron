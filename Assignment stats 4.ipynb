{
 "cells": [
  {
   "cell_type": "markdown",
   "id": "efda2fe9",
   "metadata": {},
   "source": [
    "**Problem Statement 1:**"
   ]
  },
  {
   "cell_type": "raw",
   "id": "6eca37e0",
   "metadata": {},
   "source": [
    "\n",
    "Is gender independent of education level? A random sample of 395 people were\n",
    "surveyed and each person was asked to report the highest education level they\n",
    "obtained. The data that resulted from the survey is summarized in the following table:\n",
    "\n",
    "High    School Bachelors Masters Ph.d. Total\n",
    "Female  60     54         46       41   201\n",
    "Male    40     44         53       57   194\n",
    "Total  100     98         99       98   395\n",
    "\n",
    "Question: Are gender and education level dependent at 5% level of significance? In\n",
    "other words, given the data collected above, is there a relationship between the\n",
    "gender of an individual and the level of education that they have obtained?\n"
   ]
  },
  {
   "cell_type": "code",
   "execution_count": 1,
   "id": "936aaa9d",
   "metadata": {},
   "outputs": [],
   "source": [
    "from scipy import stats"
   ]
  },
  {
   "cell_type": "code",
   "execution_count": 2,
   "id": "9b4ef5d7",
   "metadata": {},
   "outputs": [],
   "source": [
    "table = [[60,54,46,41],\n",
    "        [40,44,53,57]]"
   ]
  },
  {
   "cell_type": "code",
   "execution_count": 3,
   "id": "fdb82a66",
   "metadata": {},
   "outputs": [],
   "source": [
    "chi_score,p_value,dof,Expected_table = stats.chi2_contingency(table)"
   ]
  },
  {
   "cell_type": "code",
   "execution_count": 4,
   "id": "bcd8dff0",
   "metadata": {},
   "outputs": [
    {
     "name": "stdout",
     "output_type": "stream",
     "text": [
      "Chi Value : 8.006066246262538\n",
      "Degree of Freedom:3\n",
      "P Value:0.045886500891747214\n"
     ]
    }
   ],
   "source": [
    "print(\"Chi Value : {}\".format(chi_score))\n",
    "print(\"Degree of Freedom:{}\".format(dof))\n",
    "print(\"P Value:{}\".format(p_value))"
   ]
  },
  {
   "cell_type": "code",
   "execution_count": 5,
   "id": "54077933",
   "metadata": {},
   "outputs": [
    {
     "data": {
      "text/plain": [
       "7.814727903251179"
      ]
     },
     "execution_count": 5,
     "metadata": {},
     "output_type": "execute_result"
    }
   ],
   "source": [
    "alpha = 0.05\n",
    "p = 1-alpha\n",
    "critical_value=stats.chi2.ppf(p,dof)\n",
    "critical_value"
   ]
  },
  {
   "cell_type": "code",
   "execution_count": 6,
   "id": "2c200cd5",
   "metadata": {},
   "outputs": [
    {
     "name": "stdout",
     "output_type": "stream",
     "text": [
      "Hypothesis assumed rejected\n",
      "Hypothesis rejected as per pvalue\n"
     ]
    }
   ],
   "source": [
    "if abs(chi_score)>critical_value:\n",
    "    print(\"Hypothesis assumed rejected\")\n",
    "else:\n",
    "    print(\"Hypothesis assumed accepted\")\n",
    "\n",
    "if p_value<alpha:\n",
    "    print(\"Hypothesis rejected as per pvalue\")\n",
    "else:\n",
    "    print(\"Hypothesis accepted as  per pvalue\")"
   ]
  },
  {
   "cell_type": "markdown",
   "id": "708384dc",
   "metadata": {},
   "source": [
    "**Problem statement 2**\n",
    "\n",
    "Using the following data, perform a oneway analysis of variance using α=.05. Write up the results in APA format.\n",
    "\n",
    "[Group1: 51, 45, 33, 45, 67] [Group2: 23, 43, 23, 43, 45] [Group3: 56, 76, 74, 87, 56]\n",
    "\n",
    "H0: All group have equal mean.\n",
    "\n",
    "H1: Difference in mean of group is significant"
   ]
  },
  {
   "cell_type": "code",
   "execution_count": 7,
   "id": "66f06be8",
   "metadata": {},
   "outputs": [],
   "source": [
    "group_1 = [51,45,33,45,67]\n",
    "group_2 = [23,43,23,43,45]\n",
    "group_3 = [56,76,74,87,56]"
   ]
  },
  {
   "cell_type": "code",
   "execution_count": 8,
   "id": "6ee678bd",
   "metadata": {},
   "outputs": [],
   "source": [
    "F_value ,p_value = stats.f_oneway(group_1, group_2, group_3)"
   ]
  },
  {
   "cell_type": "code",
   "execution_count": 9,
   "id": "47c0601c",
   "metadata": {},
   "outputs": [
    {
     "data": {
      "text/plain": [
       "9.747205503009463"
      ]
     },
     "execution_count": 9,
     "metadata": {},
     "output_type": "execute_result"
    }
   ],
   "source": [
    "F_value"
   ]
  },
  {
   "cell_type": "code",
   "execution_count": 10,
   "id": "64a9f3f2",
   "metadata": {},
   "outputs": [
    {
     "data": {
      "text/plain": [
       "0.0030597541434430556"
      ]
     },
     "execution_count": 10,
     "metadata": {},
     "output_type": "execute_result"
    }
   ],
   "source": [
    "p_value"
   ]
  },
  {
   "cell_type": "code",
   "execution_count": 11,
   "id": "a25d0f3d",
   "metadata": {},
   "outputs": [],
   "source": [
    "alpha = 0.05\n",
    "p = 1-alpha\n",
    "k=3\n",
    "N = k*len(group_1)\n",
    "dof = N-k #degree of freedom within\n",
    "dfb = k-1 #degree of freedom inbetween\n",
    "critical_value=stats.f.ppf(p, dfb, dof)"
   ]
  },
  {
   "cell_type": "code",
   "execution_count": 12,
   "id": "e6f1871d",
   "metadata": {},
   "outputs": [
    {
     "name": "stdout",
     "output_type": "stream",
     "text": [
      "Hypothesis assumed rejected\n",
      "Hypothesis rejected as per pvalue\n"
     ]
    }
   ],
   "source": [
    "if abs(F_value)>critical_value:\n",
    "    print(\"Hypothesis assumed rejected\")\n",
    "else:\n",
    "    print(\"Hypothesis assumed accepted\")\n",
    "\n",
    "if p_value<alpha:\n",
    "    print(\"Hypothesis rejected as per pvalue\")\n",
    "else:\n",
    "    print(\"Hypothesis accepted as  per pvalue\")"
   ]
  },
  {
   "cell_type": "markdown",
   "id": "d9669e69",
   "metadata": {},
   "source": [
    "**Problem Statement 3:**\n",
    "\n",
    "Calculate F Test for given 10, 20, 30, 40, 50 and 5,10,15, 20, 25. For 10, 20, 30, 40, 50:"
   ]
  },
  {
   "cell_type": "code",
   "execution_count": 13,
   "id": "d32cbbe9",
   "metadata": {},
   "outputs": [],
   "source": [
    "a=[10,20,30,40,50]\n",
    "b=[5,10,15,20,25]"
   ]
  },
  {
   "cell_type": "code",
   "execution_count": 14,
   "id": "262d1e28",
   "metadata": {},
   "outputs": [],
   "source": [
    "import numpy as np\n",
    "def f_test(a,b):\n",
    "    var_a = (np.std(a,ddof=1))**2\n",
    "    var_b = (np.std(b,ddof=1))**2\n",
    "    return var_a/var_b"
   ]
  },
  {
   "cell_type": "code",
   "execution_count": 15,
   "id": "1c2d9955",
   "metadata": {},
   "outputs": [
    {
     "data": {
      "text/plain": [
       "4.0"
      ]
     },
     "execution_count": 15,
     "metadata": {},
     "output_type": "execute_result"
    }
   ],
   "source": [
    "f_test(a,b)"
   ]
  },
  {
   "cell_type": "code",
   "execution_count": null,
   "id": "975879b5",
   "metadata": {},
   "outputs": [],
   "source": []
  }
 ],
 "metadata": {
  "kernelspec": {
   "display_name": "Python 3",
   "language": "python",
   "name": "python3"
  },
  "language_info": {
   "codemirror_mode": {
    "name": "ipython",
    "version": 3
   },
   "file_extension": ".py",
   "mimetype": "text/x-python",
   "name": "python",
   "nbconvert_exporter": "python",
   "pygments_lexer": "ipython3",
   "version": "3.8.8"
  }
 },
 "nbformat": 4,
 "nbformat_minor": 5
}
