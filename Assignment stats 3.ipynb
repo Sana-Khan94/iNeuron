{
 "cells": [
  {
   "cell_type": "code",
   "execution_count": 1,
   "id": "60f31ab9",
   "metadata": {},
   "outputs": [],
   "source": [
    "import scipy.stats as sts\n",
    "from scipy.stats import norm\n",
    "import math\n",
    "import numpy as np\n",
    "from scipy import stats"
   ]
  },
  {
   "cell_type": "markdown",
   "id": "b3b2ac89",
   "metadata": {},
   "source": [
    "**Problem Statement 1:**\n",
    "\n",
    "Blood glucose levels for obese patients have a mean of 100 with a standard deviation of 15.A researcher thinks that a diet high in raw cornstarch will have a positive effect on blood glucose levels. A sample of 36 patients who have tried the raw cornstarch diet have a mean glucose level of 108. Test the hypothesis that the raw cornstarch had an effect or not."
   ]
  },
  {
   "cell_type": "code",
   "execution_count": 2,
   "id": "cb002074",
   "metadata": {},
   "outputs": [
    {
     "name": "stdout",
     "output_type": "stream",
     "text": [
      "SE: 2.5\n",
      "Z_score: 3.2\n"
     ]
    }
   ],
   "source": [
    "p_mean = 100\n",
    "p_std = 15\n",
    "n = 36\n",
    "sample_mean = 108\n",
    "alpha = 0.05\n",
    "\n",
    "SE = p_std/n**0.5\n",
    "print(f\"SE: {SE}\")\n",
    "Z = (sample_mean-p_mean)/SE\n",
    "print(f\"Z_score: {Z}\")\n",
    "# by looking at z- table and p-value associated with 3.20 is 0.9993 \n",
    "# The probability of having value less than 108 is 0.9993 and more than or equals to 108 is (1-0.9993)=0.0007.\n",
    "\n",
    "#Step-4: Sice the probability of having mean glucose level more than or equals to 108  is 0.0007 which is  less than 0.05 \n",
    "#so we will reject the Null hypothesis i.e. there is raw cornstarch effect."
   ]
  },
  {
   "cell_type": "markdown",
   "id": "035e26bf",
   "metadata": {},
   "source": [
    "**Problem Statement 2:**\n",
    "\n",
    "In one state, 52% of the voters are Republicans, and 48% are Democrats. In a second state, 47% of the voters are Republicans, and 53% are Democrats. Suppose a simple random sample of 100 voters are surveyed from each state. What is the probability that the survey will show a greater percentage of Republican voters in the second state than in the first state?"
   ]
  },
  {
   "cell_type": "markdown",
   "id": "cabd50b8",
   "metadata": {},
   "source": [
    "H0 : p_1 >= p_2\n",
    "\n",
    "H1 : p_1<p_2"
   ]
  },
  {
   "cell_type": "code",
   "execution_count": 3,
   "id": "c98fcb0e",
   "metadata": {},
   "outputs": [],
   "source": [
    "def get_zscore(p_1,p_2,n1,n2,D=0): #D = difference in population proportion\n",
    "    numerator = (p_1-p_2)-D\n",
    "    denominator = np.sqrt(p_1*(1-p_1)/n1 +p_2*(1-p_2)/n2)\n",
    "    z_value = numerator/denominator\n",
    "    return z_value"
   ]
  },
  {
   "cell_type": "code",
   "execution_count": 4,
   "id": "bc688459",
   "metadata": {},
   "outputs": [],
   "source": [
    "p_1 = 0.52\n",
    "p_2 = 0.47\n",
    "n1 = 100\n",
    "n2=100\n",
    "z_score = get_zscore(p_1,p_2,n1,n2)"
   ]
  },
  {
   "cell_type": "code",
   "execution_count": 5,
   "id": "0ccddc6a",
   "metadata": {},
   "outputs": [
    {
     "data": {
      "text/plain": [
       "0.7080278164104213"
      ]
     },
     "execution_count": 5,
     "metadata": {},
     "output_type": "execute_result"
    }
   ],
   "source": [
    "z_score"
   ]
  },
  {
   "cell_type": "code",
   "execution_count": 6,
   "id": "760dfde8",
   "metadata": {},
   "outputs": [
    {
     "name": "stdout",
     "output_type": "stream",
     "text": [
      "Probability of greater percentage of Republican voters in second state than in first state: 0.23946399182220013\n"
     ]
    }
   ],
   "source": [
    "p_value=1 - stats.norm.cdf(abs(z_score))\n",
    "print(\"Probability of greater percentage of Republican voters in second state than in first state: {}\".format(p_value))"
   ]
  },
  {
   "cell_type": "markdown",
   "id": "d49f07fe",
   "metadata": {},
   "source": [
    "**Problem Statement 3:**\n",
    "\n",
    "You take the SAT and score 1100. The mean score for the SAT is 1026 and the standard deviation is 209. How well did you score on the test compared to the average test taker?"
   ]
  },
  {
   "cell_type": "code",
   "execution_count": 7,
   "id": "14719e18",
   "metadata": {},
   "outputs": [],
   "source": [
    "def get_zscore_1(mu,sigma,x_bar,n):\n",
    "    return (x_bar-mu)/(sigma/np.sqrt(n))"
   ]
  },
  {
   "cell_type": "code",
   "execution_count": 8,
   "id": "2fab2d95",
   "metadata": {
    "scrolled": true
   },
   "outputs": [
    {
     "data": {
      "text/plain": [
       "0.35406698564593303"
      ]
     },
     "execution_count": 8,
     "metadata": {},
     "output_type": "execute_result"
    }
   ],
   "source": [
    "z_score = get_zscore_1(1026,209,1100,n=1)\n",
    "z_score"
   ]
  },
  {
   "cell_type": "markdown",
   "id": "b777dbee",
   "metadata": {},
   "source": [
    "I scored 0.35 standard deviation time above than the average test taker"
   ]
  },
  {
   "cell_type": "code",
   "execution_count": null,
   "id": "e20744d7",
   "metadata": {},
   "outputs": [],
   "source": []
  }
 ],
 "metadata": {
  "kernelspec": {
   "display_name": "Python 3",
   "language": "python",
   "name": "python3"
  },
  "language_info": {
   "codemirror_mode": {
    "name": "ipython",
    "version": 3
   },
   "file_extension": ".py",
   "mimetype": "text/x-python",
   "name": "python",
   "nbconvert_exporter": "python",
   "pygments_lexer": "ipython3",
   "version": "3.8.8"
  }
 },
 "nbformat": 4,
 "nbformat_minor": 5
}
