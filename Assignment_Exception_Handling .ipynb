{
 "cells": [
  {
   "cell_type": "markdown",
   "id": "7cc021a1",
   "metadata": {},
   "source": [
    "1. Write a function to compute 5/0 and use try/except to catch the exception"
   ]
  },
  {
   "cell_type": "code",
   "execution_count": 1,
   "id": "f9f5b685",
   "metadata": {},
   "outputs": [],
   "source": [
    "def division():\n",
    "    \n",
    "    try:\n",
    "        x = int(input('Please enter the integer which is divident: '))\n",
    "        y = int(input('Please enter the integer which is divisor: '))\n",
    "        \n",
    "        return print(f'The division of a given input is:',x/y)\n",
    "\n",
    "    except ValueError as e :\n",
    "        print(\"The input you have given it should be in integer not any other value \")\n",
    "        print(e)\n",
    "    \n",
    "    except ZeroDivisionError as e:\n",
    "        print(\"The divisor should not be a zero \")\n",
    "        print(e)\n",
    "    \n",
    "\n",
    "\n",
    "    "
   ]
  },
  {
   "cell_type": "code",
   "execution_count": 2,
   "id": "05d7d010",
   "metadata": {
    "scrolled": true
   },
   "outputs": [
    {
     "name": "stdout",
     "output_type": "stream",
     "text": [
      "Please enter the integer which is divident: 5\n",
      "Please enter the integer which is divisor: 0\n",
      "The divisor should not be a zero \n",
      "division by zero\n"
     ]
    }
   ],
   "source": [
    "division()"
   ]
  },
  {
   "cell_type": "code",
   "execution_count": null,
   "id": "3be2bab9",
   "metadata": {},
   "outputs": [],
   "source": []
  },
  {
   "cell_type": "markdown",
   "id": "81abb1a8",
   "metadata": {},
   "source": [
    "\n",
    "\n",
    "2. Implement a Python program to generate all sentences where subject is in  [\"Americans\", \"Indians\"] and verb is in [\"Play\", \"watch\"] and the object is in  [\"Baseball\",\"cricket\"]. \n",
    "Hint: Subject,Verb and Object should be declared in the program as shown below. \n",
    "subjects=[\"Americans \",\"Indians\"] \n",
    "verbs=[\"play\",\"watch\"] \n",
    "objects=[\"Baseball\",\"Cricket\"] \n",
    "\n",
    "\n",
    "Output should come as below: \n",
    "\n",
    "Americans play Baseball. \n",
    "\n",
    "Americans play Cricket. \n",
    "\n",
    "Americans watch Baseball. \n",
    "\n",
    "Americans watch Cricket. \n",
    "\n",
    "Indians play Baseball. \n",
    "\n",
    "Indians play Cricket. \n",
    "\n",
    "Indians watch Baseball. \n",
    "\n",
    "Indians watch Cricket. \n"
   ]
  },
  {
   "cell_type": "code",
   "execution_count": 3,
   "id": "8368f712",
   "metadata": {},
   "outputs": [],
   "source": [
    "def generate_sentance(sub,ver,obj):\n",
    "    lst = []\n",
    "    for i in sub:\n",
    "        for j in ver:\n",
    "            for k in obj:\n",
    "                lst.append(i+' '+j+' '+k)\n",
    "    return lst"
   ]
  },
  {
   "cell_type": "code",
   "execution_count": 4,
   "id": "4a89edb9",
   "metadata": {},
   "outputs": [],
   "source": [
    "sub = [\"Americans\", \"Indians\"] \n",
    "ver = [\"play\",\"watch\"]\n",
    "obj = [\"Baseball\",\"Cricket\"]"
   ]
  },
  {
   "cell_type": "code",
   "execution_count": 5,
   "id": "3c061f1b",
   "metadata": {},
   "outputs": [
    {
     "data": {
      "text/plain": [
       "['Americans play Baseball',\n",
       " 'Americans play Cricket',\n",
       " 'Americans watch Baseball',\n",
       " 'Americans watch Cricket',\n",
       " 'Indians play Baseball',\n",
       " 'Indians play Cricket',\n",
       " 'Indians watch Baseball',\n",
       " 'Indians watch Cricket']"
      ]
     },
     "execution_count": 5,
     "metadata": {},
     "output_type": "execute_result"
    }
   ],
   "source": [
    "generate_sentance(sub,ver,obj)"
   ]
  },
  {
   "cell_type": "code",
   "execution_count": null,
   "id": "a017e284",
   "metadata": {},
   "outputs": [],
   "source": []
  }
 ],
 "metadata": {
  "kernelspec": {
   "display_name": "Python 3",
   "language": "python",
   "name": "python3"
  },
  "language_info": {
   "codemirror_mode": {
    "name": "ipython",
    "version": 3
   },
   "file_extension": ".py",
   "mimetype": "text/x-python",
   "name": "python",
   "nbconvert_exporter": "python",
   "pygments_lexer": "ipython3",
   "version": "3.8.8"
  }
 },
 "nbformat": 4,
 "nbformat_minor": 5
}
