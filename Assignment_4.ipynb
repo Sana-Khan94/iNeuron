{
 "cells": [
  {
   "cell_type": "markdown",
   "id": "e5bdeae8",
   "metadata": {},
   "source": [
    "1.1 Write a Python Program(with class concepts) to find the area of the triangle using the below  formula. \n",
    "area = (s*(s-a)*(s-b)*(s-c)) ** 0.5 \n",
    "\n",
    "Function to take the length of the sides of triangle from user should be defined in the parent  class and function to calculate the area should be defined in subclass. \n"
   ]
  },
  {
   "cell_type": "code",
   "execution_count": 11,
   "id": "491090ef",
   "metadata": {},
   "outputs": [],
   "source": [
    "class side:\n",
    "    def __init__(self,a,b,c):\n",
    "        self.a = a\n",
    "        self.b = b\n",
    "        self.c = c\n",
    "class A(side):\n",
    "    def area(self):\n",
    "        s = (self.a+self.b+self.c)/2\n",
    "        return (s*(s-self.a)*(s-self.b)*(s-self.c))**0.5"
   ]
  },
  {
   "cell_type": "code",
   "execution_count": 12,
   "id": "aaa5527e",
   "metadata": {},
   "outputs": [
    {
     "name": "stdout",
     "output_type": "stream",
     "text": [
      "Area of triangle : 58.787753826796276\n"
     ]
    }
   ],
   "source": [
    "obj = A(10,12,14)\n",
    "print('Area of triangle : {}'.format(obj.area()))"
   ]
  },
  {
   "cell_type": "markdown",
   "id": "212289ea",
   "metadata": {},
   "source": [
    "1.2 Write a function filter_long_words() that takes a list of words and an integer n and returns  the list of words that are longer than n.\n"
   ]
  },
  {
   "cell_type": "code",
   "execution_count": 13,
   "id": "37263a7a",
   "metadata": {},
   "outputs": [],
   "source": [
    "def filter_long_words(words,n):\n",
    "    lst = []\n",
    "    for i in range(len(words)):\n",
    "        if len(words[i])>n:\n",
    "            lst.append(words[i])\n",
    "    return lst"
   ]
  },
  {
   "cell_type": "code",
   "execution_count": 14,
   "id": "efce73ed",
   "metadata": {},
   "outputs": [
    {
     "data": {
      "text/plain": [
       "['sana', 'khan', 'fine', 'and', 'cut', 'her', 'hair']"
      ]
     },
     "execution_count": 14,
     "metadata": {},
     "output_type": "execute_result"
    }
   ],
   "source": [
    "f_l_w(['sana','khan','is','fine','and','cut','her','hair'],2)"
   ]
  },
  {
   "cell_type": "markdown",
   "id": "1e8a142f",
   "metadata": {},
   "source": [
    "2.1 Write a Python program using function concept that maps list of words into a list of integers  representing the lengths of the corresponding words. \n",
    "\n",
    "Hint: If a list [ ab,cde,erty] is passed on to the python function output should come as [2,3,4] Here 2,3 and 4 are the lengths of the words in the list. "
   ]
  },
  {
   "cell_type": "code",
   "execution_count": 43,
   "id": "fe0e1a70",
   "metadata": {},
   "outputs": [],
   "source": [
    "def map_long_words(words):\n",
    "    lst = []\n",
    "    for i in range(len(words)):\n",
    "        lst.append(len(words[i]))\n",
    "    return lst"
   ]
  },
  {
   "cell_type": "code",
   "execution_count": 44,
   "id": "1bb1c836",
   "metadata": {},
   "outputs": [
    {
     "data": {
      "text/plain": [
       "[4, 4, 2, 4, 3, 3, 3, 4]"
      ]
     },
     "execution_count": 44,
     "metadata": {},
     "output_type": "execute_result"
    }
   ],
   "source": [
    "map_long_words(['sana','khan','is','fine','and','cut','her','hair'])"
   ]
  },
  {
   "cell_type": "markdown",
   "id": "9de561b9",
   "metadata": {},
   "source": [
    "2.2 Write a Python function which takes a character (i.e. a string of length 1) and returns True if  it is a vowel, False otherwise. "
   ]
  },
  {
   "cell_type": "code",
   "execution_count": 73,
   "id": "ca705f7e",
   "metadata": {},
   "outputs": [],
   "source": [
    "def checkVowel(words):\n",
    "    if words == ('a'or'e'or'i'or'o'or'u'or'A'or'E'or'I'or'O'or'U'):\n",
    "        return True\n",
    "    else:\n",
    "        return False\n"
   ]
  },
  {
   "cell_type": "code",
   "execution_count": 74,
   "id": "5ed44edb",
   "metadata": {},
   "outputs": [
    {
     "data": {
      "text/plain": [
       "True"
      ]
     },
     "execution_count": 74,
     "metadata": {},
     "output_type": "execute_result"
    }
   ],
   "source": [
    "checkVowel('a')"
   ]
  },
  {
   "cell_type": "code",
   "execution_count": 75,
   "id": "38f57f8c",
   "metadata": {},
   "outputs": [
    {
     "data": {
      "text/plain": [
       "False"
      ]
     },
     "execution_count": 75,
     "metadata": {},
     "output_type": "execute_result"
    }
   ],
   "source": [
    "checkVowel('s')"
   ]
  },
  {
   "cell_type": "code",
   "execution_count": null,
   "id": "ffcaf59b",
   "metadata": {},
   "outputs": [],
   "source": []
  }
 ],
 "metadata": {
  "kernelspec": {
   "display_name": "Python 3",
   "language": "python",
   "name": "python3"
  },
  "language_info": {
   "codemirror_mode": {
    "name": "ipython",
    "version": 3
   },
   "file_extension": ".py",
   "mimetype": "text/x-python",
   "name": "python",
   "nbconvert_exporter": "python",
   "pygments_lexer": "ipython3",
   "version": "3.8.8"
  }
 },
 "nbformat": 4,
 "nbformat_minor": 5
}
