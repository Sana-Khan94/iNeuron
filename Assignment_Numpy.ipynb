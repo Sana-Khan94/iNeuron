{
 "cells": [
  {
   "cell_type": "markdown",
   "id": "e027b9db",
   "metadata": {},
   "source": [
    "Problem Statement 1: \n",
    "Write a function so that the columns of the output matrix are powers of the input vector. \n",
    "The order of the powers is determined by the increasing boolean argument. Specifically, when  increasing is False, the i-th output column is the input vector raised element-wise to the power  of N - i - 1. \n",
    "HINT: Such a matrix with a geometric progression in each row is named for Alexandre Theophile Vandermonde. \n",
    "\n",
    "Problem Statement 2: \n",
    "Given a sequence of n values x1, x2, ..., xn and a window size k>0, the k-th moving average of  the given sequence is defined as follows: \n",
    "\n",
    "The moving average sequence has n-k+1 elements as shown below. \n",
    "The moving averages with k=4 of a ten-value sequence (n=10) is shown below \n",
    "i 1 2 3 4 5 6 7 8 9 10 \n",
    "===== == == == == == == == == == == \n",
    "Input 10 20 30 40 50 60 70 80 90 100  \n",
    "\n",
    "y1 25 = (10+20+30+40)/4 \n",
    "\n",
    "y2 35 = (20+30+40+50)/4 \n",
    "\n",
    "y3 45 = (30+40+50+60)/4 \n",
    "\n",
    "y4 55 = (40+50+60+70)/4 \n",
    "\n",
    "y5 65 = (50+60+70+80)/4 \n",
    "\n",
    "y6 75 = (60+70+80+90)/4 \n",
    "\n",
    "y7 85 = (70+80+90+100)/4 \n",
    "\n",
    "Thus, the moving average sequence has n-k+1=10-4+1=7 values.\n",
    "Question: Write a function to find moving average in an array over a window:  Test it over [3, 5, 7, 2, 8, 10, 11, 65, 72, 81, 99, 100, 150] and window of 3. \n"
   ]
  },
  {
   "cell_type": "code",
   "execution_count": 1,
   "id": "104d22ca",
   "metadata": {},
   "outputs": [],
   "source": [
    "import pandas as pd\n",
    "import numpy as np"
   ]
  },
  {
   "cell_type": "markdown",
   "id": "c9231b2b",
   "metadata": {},
   "source": [
    "Problem Statement 1: \n",
    "\n",
    "Write a function so that the columns of the output matrix are powers of the input vector. The order of the powers is determined by the increasing boolean argument. Specifically, when increasing is False, the i-th output column is the input vector raised element-wise to the power of N - i - 1. HINT: Such a matrix with a geometric progression in each row is named for Alexandre Theophile Vandermonde."
   ]
  },
  {
   "cell_type": "code",
   "execution_count": 10,
   "id": "f21d4d03",
   "metadata": {},
   "outputs": [],
   "source": [
    "def gen_vander_matrix(ipvector, n, increasing=False):\n",
    "    \n",
    "    if not increasing:\n",
    "        op_matx = np.array([x**(n-1-i) for x in ipvector for i in range(n)]).reshape(ipvector.size,n)\n",
    "    elif increasing:\n",
    "        op_matx = np.array([x**i for x in ipvector for i in range(n)]).reshape(ipvector.size,n)\n",
    "    \n",
    "    return op_matx"
   ]
  },
  {
   "cell_type": "code",
   "execution_count": 11,
   "id": "62acdae8",
   "metadata": {},
   "outputs": [
    {
     "name": "stdout",
     "output_type": "stream",
     "text": [
      "The input array is: [1 2 3 4 5] \n",
      "\n",
      "Number of columns in output matrix should be: 3 \n",
      "\n",
      "Vander matrix of the input array in decreasing order of powers:\n",
      "\n",
      " [[ 1  1  1]\n",
      " [ 4  2  1]\n",
      " [ 9  3  1]\n",
      " [16  4  1]\n",
      " [25  5  1]] \n",
      "\n",
      "Vander matrix of the input array in increasing order of powers:\n",
      "\n",
      " [[ 1  1  1]\n",
      " [ 1  2  4]\n",
      " [ 1  3  9]\n",
      " [ 1  4 16]\n",
      " [ 1  5 25]] \n",
      "\n"
     ]
    }
   ],
   "source": [
    "inputvector = np.array([1,2,3,4,5])\n",
    "no_col_opmat = 3\n",
    "op_matx_dec_order = gen_vander_matrix(inputvector,no_col_opmat,False)\n",
    "op_matx_inc_order = gen_vander_matrix(inputvector,no_col_opmat,True)\n",
    "\n",
    "print(\"The input array is:\",inputvector,\"\\n\")\n",
    "print(\"Number of columns in output matrix should be:\",no_col_opmat,\"\\n\")\n",
    "print(\"Vander matrix of the input array in decreasing order of powers:\\n\\n\",op_matx_dec_order,\"\\n\")\n",
    "print(\"Vander matrix of the input array in increasing order of powers:\\n\\n\",op_matx_inc_order,\"\\n\")"
   ]
  },
  {
   "cell_type": "markdown",
   "id": "ee5ee57c",
   "metadata": {},
   "source": [
    "Problem Statement 2: \n",
    "\n",
    "Given a sequence of n values x1, x2, ..., xn and a window size k>0, the k-th moving average of the given sequence is defined as follows:\n",
    "\n",
    "\n",
    "The moving average sequence has n-k+1 elements as shown below. The moving averages with k=4 of a ten-value sequence (n=10) is shown below i 1 2 3 4 5 6 7 8 9 10 ===== == == == == == == == == == == Input 10 20 30 40 50 60 70 80 90 100\n",
    "\n",
    "y1 25 = (10+20+30+40)/4\n",
    "\n",
    "y2 35 = (20+30+40+50)/4\n",
    "\n",
    "y3 45 = (30+40+50+60)/4\n",
    "\n",
    "y4 55 = (40+50+60+70)/4\n",
    "\n",
    "y5 65 = (50+60+70+80)/4\n",
    "\n",
    "y6 75 = (60+70+80+90)/4\n",
    "\n",
    "y7 85 = (70+80+90+100)/4\n",
    "\n",
    "Thus, the moving average sequence has n-k+1=10-4+1=7 values. Question: Write a function to find moving average in an array over a window: Test it over [3, 5, 7, 2, 8, 10, 11, 65, 72, 81, 99, 100, 150] and window of 3."
   ]
  },
  {
   "cell_type": "code",
   "execution_count": 12,
   "id": "bdfd3be3",
   "metadata": {},
   "outputs": [],
   "source": [
    "def moving_average(a, n=3) :\n",
    "    \n",
    "    test = np.cumsum(a, dtype=float) # as we use np.cumsum to get cumulative sum of the numbers\n",
    "    test[n:] = test[n:] - test[:-n]  # we are breaking the array as per desired number which is 'n' in our function \n",
    "                                     # and subtacting element to get the desire result\n",
    "    return test[n - 1:] / n\n"
   ]
  },
  {
   "cell_type": "code",
   "execution_count": 13,
   "id": "5f01f59d",
   "metadata": {},
   "outputs": [
    {
     "data": {
      "text/plain": [
       "array([  5.    ,   4.6667,   5.6667,   6.6667,   9.6667,  28.6667,\n",
       "        49.3333,  72.6667,  84.    ,  93.3333, 116.3333])"
      ]
     },
     "execution_count": 13,
     "metadata": {},
     "output_type": "execute_result"
    }
   ],
   "source": [
    "a =  [3, 5, 7, 2, 8, 10, 11, 65, 72, 81, 99, 100, 150]\n",
    "a1 = np.array(a)\n",
    "np.array(moving_average(a1,n=3)).round(4)"
   ]
  },
  {
   "cell_type": "code",
   "execution_count": null,
   "id": "7456aa91",
   "metadata": {},
   "outputs": [],
   "source": []
  }
 ],
 "metadata": {
  "kernelspec": {
   "display_name": "Python 3",
   "language": "python",
   "name": "python3"
  },
  "language_info": {
   "codemirror_mode": {
    "name": "ipython",
    "version": 3
   },
   "file_extension": ".py",
   "mimetype": "text/x-python",
   "name": "python",
   "nbconvert_exporter": "python",
   "pygments_lexer": "ipython3",
   "version": "3.8.8"
  }
 },
 "nbformat": 4,
 "nbformat_minor": 5
}
